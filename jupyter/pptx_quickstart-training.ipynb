{
 "cells": [
  {
   "cell_type": "markdown",
   "id": "c34a73ed",
   "metadata": {},
   "source": [
    "## Homework  python-pptx库练习"
   ]
  },
  {
   "cell_type": "markdown",
   "id": "5e9e798d-466a-4714-9a28-7245b55ac6dd",
   "metadata": {},
   "source": [
    "### Corporate_prs.pptx 文件\n",
    "\n",
    "![slides](../images/slides_training.png)\n",
    "  "
   ]
  },
  {
   "cell_type": "markdown",
   "id": "fa6bbf02",
   "metadata": {},
   "source": []
  },
  {
   "cell_type": "markdown",
   "id": "4239cf1d-d7eb-4bef-92dd-c45d46362e09",
   "metadata": {},
   "source": [
    "### 【深入理解】Presentation 和 SlideMaster 类继承关系的 UML 类图\n",
    "\n",
    "在这个 UML 类图中：\n",
    "\n",
    "1. **`Presentation`** 类是顶层对象，它包含多个 `Slides` 对象。\n",
    "2. **`Slides`** 类是一个幻灯片集合，通过它可以添加或访问单独的 `Slide` 对象。\n",
    "3. **`Slide`** 类代表单个幻灯片，它包含形状（`Shapes`）和占位符（`SlidePlaceholders`），并且它通过布局（`SlideLayout`）来定义外观。\n",
    "4. **`SlideMaster`** 类包含多个 `SlideLayouts`，它定义了幻灯片的母版布局。\n",
    "5. **`SlideLayout`** 类定义了幻灯片的布局结构，其中有占位符和形状。\n",
    "6. **`Shape`** 类代表幻灯片中的形状或文本框等内容。\n",
    "\n",
    "\n",
    "```\n",
    "+------------------------+\n",
    "|      Presentation      |\n",
    "+------------------------+\n",
    "| - slides: Slides       |\n",
    "| - slide_masters: SlideMasters |\n",
    "| - slide_layouts: SlideLayouts |\n",
    "| - core_properties: CoreProperties |\n",
    "+------------------------+\n",
    "| + save(file: str)                       |\n",
    "+------------------------+\n",
    "           |\n",
    "           v\n",
    "+--------------------+\n",
    "|       Slides       |\n",
    "+--------------------+\n",
    "| - slides: Slide[]  |\n",
    "+--------------------+\n",
    "| + add_slide(layout: SlideLayout) -> Slide |\n",
    "| + get(slide_id: int) -> Slide | None      |\n",
    "+--------------------+\n",
    "           |\n",
    "           v\n",
    "+--------------------+\n",
    "|       Slide        |\n",
    "+--------------------+\n",
    "| - slide_id: int    |\n",
    "| - shapes: Shapes   |\n",
    "| - placeholders: SlidePlaceholders |\n",
    "| - slide_layout: SlideLayout       |\n",
    "+--------------------+\n",
    "| + add_shape(shape: Shape)         |\n",
    "| + add_picture(image: Picture)     |\n",
    "| + add_table(rows: int, cols: int) |\n",
    "+--------------------+\n",
    "           |\n",
    "           v\n",
    "+--------------------+\n",
    "|    SlideMaster     |\n",
    "+--------------------+\n",
    "| - slide_layouts: SlideLayouts[]  |\n",
    "+--------------------+\n",
    "| + get_by_name(name: str) -> SlideLayout |\n",
    "| + index(slide_layout: SlideLayout) -> int |\n",
    "+--------------------+\n",
    "           |\n",
    "           v\n",
    "+--------------------+\n",
    "|   SlideLayouts     |\n",
    "+--------------------+\n",
    "| - layouts: SlideLayout[] |\n",
    "+--------------------+\n",
    "| + remove(slide_layout: SlideLayout)      |\n",
    "+--------------------+\n",
    "           |\n",
    "           v\n",
    "+--------------------+\n",
    "|   SlideLayout      |\n",
    "+--------------------+\n",
    "| - placeholders: SlidePlaceholders[] |\n",
    "| - shapes: Shapes[]                  |\n",
    "| - slide_master: SlideMaster          |\n",
    "+--------------------+\n",
    "           |\n",
    "           v\n",
    "+--------------------+\n",
    "|      Shape         |\n",
    "+--------------------+\n",
    "| - name: str        |\n",
    "| - fill: FillFormat |\n",
    "| - line: LineFormat |\n",
    "+--------------------+\n",
    "| + add_textbox(left, top, width, height)  |\n",
    "| + add_picture(image_file: str)           |\n",
    "+--------------------+\n",
    "```\n"
   ]
  },
  {
   "cell_type": "markdown",
   "id": "b4826e67-65f3-485b-99cd-0a60c4efb246",
   "metadata": {},
   "source": [
    "### 生成pptx文件"
   ]
  },
  {
   "cell_type": "code",
   "execution_count": 1,
   "id": "8fad57e5-d2d4-4780-b925-9b49d57ebde6",
   "metadata": {},
   "outputs": [
    {
     "name": "stdout",
     "output_type": "stream",
     "text": [
      "Slide ID: 256\n",
      "  Layout: <pptx.slide.SlideLayout object at 0x000002BAFF972FB0>\n",
      "  Shapes: 2 shapes\n",
      "  Placeholders: 2 placeholders\n",
      "  Shape Details:\n",
      "    - Shape Name: Title 1, Type: PLACEHOLDER (14)\n",
      "    - Shape Name: Content Placeholder 2, Type: PLACEHOLDER (14)\n",
      "  Placeholder Details:\n",
      "    - Placeholder ID: 0, Type: TITLE (1)\n",
      "    - Placeholder ID: 14, Type: OBJECT (7)\n"
     ]
    }
   ],
   "source": [
    "from pptx import Presentation\n",
    "from pptx.util import Inches, Pt\n",
    "from pptx.dml.color import RGBColor\n",
    "\n",
    "\n",
    "# 添加文本内容幻灯片\n",
    "presentation = Presentation(\"../outputs/Corporate_prs.pptx\")\n",
    "slide_layout = presentation.slide_layouts[-2]\n",
    "slide = presentation.slides.add_slide(slide_layout)\n",
    "\n",
    "\n",
    "# 打印新增页属性\n",
    "print(f\"Slide ID: {slide.slide_id}\")\n",
    "print(f\"  Layout: {slide.slide_layout}\")\n",
    "print(f\"  Shapes: {len(slide.shapes)} shapes\")\n",
    "print(f\"  Placeholders: {len(slide.placeholders)} placeholders\")\n",
    "\n",
    "print(\"  Shape Details:\")\n",
    "for shape in slide.shapes:\n",
    "    print(f\"    - Shape Name: {shape.name}, Type: {shape.shape_type}\")\n",
    "\n",
    "print(\"  Placeholder Details:\")\n",
    "for placeholder in slide.placeholders:\n",
    "    print(f\"    - Placeholder ID: {placeholder.placeholder_format.idx}, Type: {placeholder.placeholder_format.type}\")"
   ]
  },
  {
   "cell_type": "code",
   "execution_count": 2,
   "id": "e2435a50-3ca9-445c-9949-80777b97a023",
   "metadata": {},
   "outputs": [],
   "source": [
    "# 填充原有布局中的占位符（标题和文本）\n",
    "title = slide.shapes.title\n",
    "title.text = \"python-pptx 新增文本内容示例\"\n",
    "content = slide.placeholders[0]\n",
    "content.text = \"填充原有的文本占位符\""
   ]
  },
  {
   "cell_type": "code",
   "execution_count": 3,
   "id": "1570ed11-df6d-4ac5-930b-a36c55c218aa",
   "metadata": {},
   "outputs": [],
   "source": [
    "# 新增文本框\n",
    "left = Inches(6.07)\n",
    "top = Inches(5.78)\n",
    "width = Inches(5.98)\n",
    "height = Inches(0.7)\n",
    "textbox = slide.shapes.add_textbox(left, top, width, height)\n",
    "text_frame = textbox.text_frame\n",
    "text_frame.text = \"额外的文本框内容\"\n",
    "\n",
    "# 格式化文本\n",
    "paragraph = text_frame.add_paragraph()  # 添加新段落\n",
    "paragraph.text = \"这是一个新的段落。\"  # 设置段落文本\n",
    "\n",
    "# 设置字体\n",
    "run = paragraph.add_run()  # 添加文本运行\n",
    "run.text = \" 这部分是加粗的文本。\"  # 设置文本内容\n",
    "run.font.bold = True  # 设置为粗体\n",
    "run.font.size = Pt(16)  # 设置字体大小\n",
    "run.font.color.rgb = RGBColor(255, 0, 0)  # 设置字体颜色为红色\n"
   ]
  },
  {
   "cell_type": "code",
   "execution_count": 4,
   "id": "0502d662-dcb4-40c1-b396-44ff5c283092",
   "metadata": {},
   "outputs": [
    {
     "data": {
      "text/plain": [
       "<pptx.shapes.picture.Picture at 0x2baff973fa0>"
      ]
     },
     "execution_count": 4,
     "metadata": {},
     "output_type": "execute_result"
    }
   ],
   "source": [
    "# 添加图片\n",
    "img_path = \"../images/forecast.png\"  # 图片路径\n",
    "left = Inches(0.92)\n",
    "top = Inches(1.67)\n",
    "width = Inches(5)\n",
    "height = Inches(5)\n",
    "slide.shapes.add_picture(img_path, left, top, width, height)"
   ]
  },
  {
   "cell_type": "code",
   "execution_count": 5,
   "id": "8118377c",
   "metadata": {},
   "outputs": [],
   "source": [
    "# 添加表格\n",
    "rows = 2\n",
    "cols = 3\n",
    "left = Inches(6)\n",
    "top = Inches(1.67)\n",
    "width = Inches(6.33)\n",
    "height = Inches(1.38)\n",
    "table = slide.shapes.add_table(rows, cols, left, top, width, height).table\n",
    "\n",
    "# 填充表格内容\n",
    "table.cell(0, 0).text = \"Header 1\"\n",
    "table.cell(0, 1).text = \"Header 2\"\n",
    "table.cell(0, 2).text = \"Header 3\"\n",
    "table.cell(1, 0).text = \"Data 1\"\n",
    "table.cell(1, 1).text = \"Data 2\"\n",
    "table.cell(1, 2).text = \"Data 3\"\n",
    "\n",
    "# 设置表格格式：将第一行作为标题行，字体加粗\n",
    "for col in range(cols):\n",
    "    cell = table.cell(0, col)\n",
    "    cell.text_frame.paragraphs[0].font.bold = True  # 设置字体为粗体\n"
   ]
  },
  {
   "cell_type": "code",
   "execution_count": 6,
   "id": "4bcf9547",
   "metadata": {},
   "outputs": [],
   "source": [
    "# 添加图表\n",
    "from pptx.chart.data import CategoryChartData\n",
    "from pptx.enum.chart import XL_CHART_TYPE\n",
    "\n",
    "chart_data = CategoryChartData()\n",
    "chart_data.categories = [\"类别 1\", \"类别 2\", \"类别 3\"]\n",
    "chart_data.add_series(\"系列 1\", (19.2, 21.4, 16.7))\n",
    "chart_data.add_series(\"系列 2\", (22.3, 28.6, 15.2))\n",
    "\n",
    "x, y, cx, cy = Inches(6.04), Inches(3.22), Inches(6.33), Inches(2.38)\n",
    "chart = slide.shapes.add_chart(\n",
    "    XL_CHART_TYPE.COLUMN_CLUSTERED, x, y, cx, cy, chart_data\n",
    ").chart"
   ]
  },
  {
   "cell_type": "code",
   "execution_count": 7,
   "id": "9f763aac",
   "metadata": {},
   "outputs": [],
   "source": [
    "\n",
    "# 保存 PPTX 文件\n",
    "presentation.save(\"PPT_append_training.pptx\")"
   ]
  },
  {
   "cell_type": "code",
   "execution_count": null,
   "id": "34dd29c0-2813-405f-a206-22deb0b9d86e",
   "metadata": {},
   "outputs": [],
   "source": []
  }
 ],
 "metadata": {
  "kernelspec": {
   "display_name": "Python 3 (ipykernel)",
   "language": "python",
   "name": "python3"
  },
  "language_info": {
   "codemirror_mode": {
    "name": "ipython",
    "version": 3
   },
   "file_extension": ".py",
   "mimetype": "text/x-python",
   "name": "python",
   "nbconvert_exporter": "python",
   "pygments_lexer": "ipython3",
   "version": "3.10.15"
  }
 },
 "nbformat": 4,
 "nbformat_minor": 5
}
